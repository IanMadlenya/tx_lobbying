{
 "metadata": {
  "name": "",
  "signature": "sha256:c1e1cdf7dda5b72f76e8945119ec17c510d1117e84ea44b896f36f8e5f3bfebb"
 },
 "nbformat": 3,
 "nbformat_minor": 0,
 "worksheets": [
  {
   "cells": [
    {
     "cell_type": "code",
     "collapsed": false,
     "input": [
      "import django; django.setup()\n",
      "from django.db import connection"
     ],
     "language": "python",
     "metadata": {},
     "outputs": [],
     "prompt_number": 14
    },
    {
     "cell_type": "code",
     "collapsed": false,
     "input": [
      "from tx_lobbying.models import (Address, Compensation, Coversheet, ExpenseDetailReport,\n",
      "                           Interest, InterestStats, Lobbyist, LobbyistAnnum,\n",
      "                           LobbyistStats, RegistrationReport)\n",
      "from django.db.models import Avg, Count, F, Max, Min, Q, Sum\n",
      "_num0 = len(connection.queries)\n",
      "data = (Coversheet.objects.all().values('year')\n",
      "            .annotate(\n",
      "                Count('pk'),\n",
      "                Sum('spent_guess'),\n",
      "                # Sum('transportation'),\n",
      "                # Sum('food'),\n",
      "                # Sum('entertainment'),\n",
      "                # Sum('gifts'),\n",
      "                # Sum('awards'),\n",
      "                # Sum('events'),\n",
      "                # Sum('media'),\n",
      "            )).order_by('year')"
     ],
     "language": "python",
     "metadata": {},
     "outputs": [],
     "prompt_number": 16
    },
    {
     "cell_type": "code",
     "collapsed": false,
     "input": [
      "print data\n",
      "print len(data)\n",
      "len(connection.queries) - _num0"
     ],
     "language": "python",
     "metadata": {},
     "outputs": [
      {
       "output_type": "stream",
       "stream": "stdout",
       "text": [
        "[{'spent_guess__sum': Decimal('36.51'), 'pk__count': 2, 'year': 1992}, {'spent_guess__sum': Decimal('510108.33'), 'pk__count': 1558, 'year': 1993}, {'spent_guess__sum': Decimal('0.00'), 'pk__count': 1, 'year': 1994}, {'spent_guess__sum': Decimal('0.00'), 'pk__count': 1, 'year': 1999}, {'spent_guess__sum': Decimal('0.00'), 'pk__count': 1, 'year': 2007}, {'spent_guess__sum': Decimal('943.84'), 'pk__count': 1, 'year': 2009}, {'spent_guess__sum': Decimal('926.88'), 'pk__count': 4, 'year': 2010}, {'spent_guess__sum': Decimal('525168.99'), 'pk__count': 1683, 'year': 2011}, {'spent_guess__sum': Decimal('2340815.48'), 'pk__count': 8650, 'year': 2012}, {'spent_guess__sum': Decimal('5706462.71'), 'pk__count': 10972, 'year': 2013}, {'spent_guess__sum': Decimal('500814.01'), 'pk__count': 1929, 'year': 2014}]\n",
        "11\n"
       ]
      },
      {
       "metadata": {},
       "output_type": "pyout",
       "prompt_number": 19,
       "text": [
        "3"
       ]
      }
     ],
     "prompt_number": 19
    },
    {
     "cell_type": "code",
     "collapsed": false,
     "input": [
      "Coversheet.objects.all().values('year').annotate(Count('pk')).order_by('year')"
     ],
     "language": "python",
     "metadata": {},
     "outputs": [
      {
       "metadata": {},
       "output_type": "pyout",
       "prompt_number": 8,
       "text": [
        "[{'pk__count': 2, 'year': 1992}, {'pk__count': 1558, 'year': 1993}, {'pk__count': 1, 'year': 1994}, {'pk__count': 1, 'year': 1999}, {'pk__count': 1, 'year': 2007}, {'pk__count': 1, 'year': 2009}, {'pk__count': 4, 'year': 2010}, {'pk__count': 1683, 'year': 2011}, {'pk__count': 8650, 'year': 2012}, {'pk__count': 10972, 'year': 2013}, {'pk__count': 1929, 'year': 2014}]"
       ]
      }
     ],
     "prompt_number": 8
    },
    {
     "cell_type": "code",
     "collapsed": false,
     "input": [
      "len(_)"
     ],
     "language": "python",
     "metadata": {},
     "outputs": [
      {
       "metadata": {},
       "output_type": "pyout",
       "prompt_number": 9,
       "text": [
        "11"
       ]
      }
     ],
     "prompt_number": 9
    },
    {
     "cell_type": "code",
     "collapsed": false,
     "input": [
      "connection.queries[-1]"
     ],
     "language": "python",
     "metadata": {},
     "outputs": [
      {
       "metadata": {},
       "output_type": "pyout",
       "prompt_number": 10,
       "text": [
        "{u'sql': u'SELECT \"tx_lobbying_coversheet\".\"year\", COUNT(\"tx_lobbying_coversheet\".\"id\") AS \"pk__count\" FROM \"tx_lobbying_coversheet\" GROUP BY \"tx_lobbying_coversheet\".\"year\" ORDER BY \"tx_lobbying_coversheet\".\"year\" ASC',\n",
        " u'time': u'0.045'}"
       ]
      }
     ],
     "prompt_number": 10
    },
    {
     "cell_type": "code",
     "collapsed": false,
     "input": [],
     "language": "python",
     "metadata": {},
     "outputs": []
    }
   ],
   "metadata": {}
  }
 ]
}