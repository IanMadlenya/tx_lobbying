{
 "metadata": {
  "name": "",
  "signature": "sha256:22f0807d93a5b2e7e6517933fc47f3af8f4b4e8b422f45606bf273f7f747934b"
 },
 "nbformat": 3,
 "nbformat_minor": 0,
 "worksheets": [
  {
   "cells": [
    {
     "cell_type": "code",
     "collapsed": false,
     "input": [
      "import django; django.setup()\n",
      "from django.db.models import Avg, Count, F, Max, Min, Q, Sum\n",
      "from tx_lobbying.models import Lobbyist, Coversheet, Interest"
     ],
     "language": "python",
     "metadata": {},
     "outputs": [],
     "prompt_number": 2
    },
    {
     "cell_type": "code",
     "collapsed": false,
     "input": [
      "# Lobbyists that actually spent something per year\n",
      "(Lobbyist.objects.filter(stats__spent_guess__gt=0).distinct().order_by('stats__year')\n",
      "    .values('stats__year')\n",
      "    .annotate(Count('pk'))\n",
      ")"
     ],
     "language": "python",
     "metadata": {},
     "outputs": [
      {
       "metadata": {},
       "output_type": "pyout",
       "prompt_number": 11,
       "text": [
        "[{'pk__count': 1, 'stats__year': 1991}, {'pk__count': 48, 'stats__year': 1992}, {'pk__count': 448, 'stats__year': 1993}, {'pk__count': 181, 'stats__year': 1994}, {'pk__count': 458, 'stats__year': 1995}, {'pk__count': 534, 'stats__year': 1996}, {'pk__count': 506, 'stats__year': 1997}, {'pk__count': 608, 'stats__year': 1998}, {'pk__count': 500, 'stats__year': 1999}, {'pk__count': 557, 'stats__year': 2000}, {'pk__count': 566, 'stats__year': 2001}, {'pk__count': 504, 'stats__year': 2002}, {'pk__count': 630, 'stats__year': 2003}, {'pk__count': 583, 'stats__year': 2004}, {'pk__count': 655, 'stats__year': 2005}, {'pk__count': 577, 'stats__year': 2006}, {'pk__count': 670, 'stats__year': 2007}, {'pk__count': 620, 'stats__year': 2008}, {'pk__count': 690, 'stats__year': 2009}, {'pk__count': 600, 'stats__year': 2010}, '...(remaining elements truncated)...']"
       ]
      }
     ],
     "prompt_number": 11
    },
    {
     "cell_type": "code",
     "collapsed": false,
     "input": [
      "# Number of coversheets itemized per year\n",
      "(\n",
      "Coversheet.objects.exclude(details__isnull=True).order_by('year').values('year')\n",
      ".annotate(Count('pk'))\n",
      ")"
     ],
     "language": "python",
     "metadata": {},
     "outputs": [
      {
       "metadata": {},
       "output_type": "pyout",
       "prompt_number": 14,
       "text": [
        "[{'pk__count': 2, 'year': 2004}, {'pk__count': 412, 'year': 2005}, {'pk__count': 255, 'year': 2006}, {'pk__count': 399, 'year': 2007}, {'pk__count': 252, 'year': 2008}, {'pk__count': 372, 'year': 2009}, {'pk__count': 249, 'year': 2010}, {'pk__count': 368, 'year': 2011}, {'pk__count': 242, 'year': 2012}, {'pk__count': 371, 'year': 2013}, {'pk__count': 50, 'year': 2014}]"
       ]
      }
     ],
     "prompt_number": 14
    },
    {
     "cell_type": "code",
     "collapsed": false,
     "input": [
      "# Lobbyists registered per year\n",
      "(\n",
      "Lobbyist.objects\n",
      ".order_by('registrations__year').values('registrations__year')\n",
      ".annotate(Count('pk'))\n",
      ")"
     ],
     "language": "python",
     "metadata": {},
     "outputs": [
      {
       "metadata": {},
       "output_type": "pyout",
       "prompt_number": 16,
       "text": [
        "[{'pk__count': 1942, 'registrations__year': 2009}, {'pk__count': 1640, 'registrations__year': 2010}, {'pk__count': 1919, 'registrations__year': 2011}, {'pk__count': 1695, 'registrations__year': 2012}, {'pk__count': 1970, 'registrations__year': 2013}, {'pk__count': 1498, 'registrations__year': 2014}, {'pk__count': 3752, 'registrations__year': None}]"
       ]
      }
     ],
     "prompt_number": 16
    },
    {
     "cell_type": "code",
     "collapsed": false,
     "input": [
      "# score\n",
      "# a lobbyist who has a lot of activity\n",
      "lobbyist = Lobbyist.objects.get(filer_id=50591)\n",
      "lobbyist.get_score()"
     ],
     "language": "python",
     "metadata": {},
     "outputs": [
      {
       "metadata": {},
       "output_type": "pyout",
       "prompt_number": 3,
       "text": [
        "Decimal('184885.275')"
       ]
      }
     ],
     "prompt_number": 3
    },
    {
     "cell_type": "code",
     "collapsed": false,
     "input": [
      "annums = lobbyist.years.annotate(Count('compensation'))"
     ],
     "language": "python",
     "metadata": {},
     "outputs": [],
     "prompt_number": 4
    },
    {
     "cell_type": "code",
     "collapsed": false,
     "input": [
      "Interest.objects.filter(years_available__lobbyist=lobbyist).distinct().count()"
     ],
     "language": "python",
     "metadata": {},
     "outputs": [
      {
       "metadata": {},
       "output_type": "pyout",
       "prompt_number": 10,
       "text": [
        "51"
       ]
      }
     ],
     "prompt_number": 10
    },
    {
     "cell_type": "code",
     "collapsed": false,
     "input": [
      "sum(x.compensation__count for x in annums)"
     ],
     "language": "python",
     "metadata": {},
     "outputs": [
      {
       "metadata": {},
       "output_type": "pyout",
       "prompt_number": 9,
       "text": [
        "129"
       ]
      }
     ],
     "prompt_number": 9
    },
    {
     "cell_type": "code",
     "collapsed": false,
     "input": [],
     "language": "python",
     "metadata": {},
     "outputs": []
    }
   ],
   "metadata": {}
  }
 ]
}