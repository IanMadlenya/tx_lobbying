{
 "metadata": {
  "name": "",
  "signature": "sha256:8711c0a4d3dda7d2b885b106dc7a496f26c0c6106136ed8c0436f94e0a406ea4"
 },
 "nbformat": 3,
 "nbformat_minor": 0,
 "worksheets": [
  {
   "cells": [
    {
     "cell_type": "code",
     "collapsed": false,
     "input": [
      "import django; django.setup()\n",
      "from django.db import connection\n",
      "from django.db.models import Avg, Count, F, Max, Min, Q, Sum\n",
      "from tx_lobbying.models import Interest"
     ],
     "language": "python",
     "metadata": {},
     "outputs": [],
     "prompt_number": 7
    },
    {
     "cell_type": "code",
     "collapsed": false,
     "input": [
      "interest = Interest.objects.get(pk=946)  # AT&T\n",
      "print interest"
     ],
     "language": "python",
     "metadata": {},
     "outputs": [
      {
       "output_type": "stream",
       "stream": "stdout",
       "text": [
        "AT&T, Inc. (TX)\n"
       ]
      }
     ],
     "prompt_number": 8
    },
    {
     "cell_type": "code",
     "collapsed": false,
     "input": [
      "interest.years_available.values('year')"
     ],
     "language": "python",
     "metadata": {},
     "outputs": [
      {
       "metadata": {},
       "output_type": "pyout",
       "prompt_number": 9,
       "text": [
        "[{'year': 2014}, {'year': 2014}, {'year': 2014}, {'year': 2014}, {'year': 2014}, {'year': 2013}, {'year': 2013}, {'year': 2013}, {'year': 2013}, {'year': 2013}, {'year': 2013}, {'year': 2013}, {'year': 2013}, {'year': 2013}, {'year': 2013}]"
       ]
      }
     ],
     "prompt_number": 9
    },
    {
     "cell_type": "code",
     "collapsed": false,
     "input": [
      "# Can aggregate by year\n",
      "interest.years_available.values('year').annotate(Count('pk')).order_by('year')"
     ],
     "language": "python",
     "metadata": {},
     "outputs": [
      {
       "metadata": {},
       "output_type": "pyout",
       "prompt_number": 14,
       "text": [
        "[{'pk__count': 10, 'year': 2013}, {'pk__count': 5, 'year': 2014}]"
       ]
      }
     ],
     "prompt_number": 14
    },
    {
     "cell_type": "code",
     "collapsed": false,
     "input": [
      "interest.years_available.values('year').annotate(Count('compensation_set_massive')).order_by('year')"
     ],
     "language": "python",
     "metadata": {},
     "outputs": [
      {
       "ename": "FieldError",
       "evalue": "Cannot resolve keyword 'compensation_set_massive' into field. Choices are: clients, compensation, id, lobbyist, lobbyist_id, year",
       "output_type": "pyerr",
       "traceback": [
        "\u001b[1;31m---------------------------------------------------------------------------\u001b[0m\n\u001b[1;31mFieldError\u001b[0m                                Traceback (most recent call last)",
        "\u001b[1;32m<ipython-input-15-fa17cf94c89e>\u001b[0m in \u001b[0;36m<module>\u001b[1;34m()\u001b[0m\n\u001b[1;32m----> 1\u001b[1;33m \u001b[0minterest\u001b[0m\u001b[1;33m.\u001b[0m\u001b[0myears_available\u001b[0m\u001b[1;33m.\u001b[0m\u001b[0mvalues\u001b[0m\u001b[1;33m(\u001b[0m\u001b[1;34m'year'\u001b[0m\u001b[1;33m)\u001b[0m\u001b[1;33m.\u001b[0m\u001b[0mannotate\u001b[0m\u001b[1;33m(\u001b[0m\u001b[0mCount\u001b[0m\u001b[1;33m(\u001b[0m\u001b[1;34m'compensation_set_massive'\u001b[0m\u001b[1;33m)\u001b[0m\u001b[1;33m)\u001b[0m\u001b[1;33m.\u001b[0m\u001b[0morder_by\u001b[0m\u001b[1;33m(\u001b[0m\u001b[1;34m'year'\u001b[0m\u001b[1;33m)\u001b[0m\u001b[1;33m\u001b[0m\u001b[0m\n\u001b[0m",
        "\u001b[1;32m/home/kurol/env/lobbying/local/lib/python2.7/site-packages/django/db/models/query.pyc\u001b[0m in \u001b[0;36mannotate\u001b[1;34m(self, *args, **kwargs)\u001b[0m\n\u001b[0;32m    795\u001b[0m         \u001b[1;32mfor\u001b[0m \u001b[1;33m(\u001b[0m\u001b[0malias\u001b[0m\u001b[1;33m,\u001b[0m \u001b[0maggregate_expr\u001b[0m\u001b[1;33m)\u001b[0m \u001b[1;32min\u001b[0m \u001b[0mkwargs\u001b[0m\u001b[1;33m.\u001b[0m\u001b[0mitems\u001b[0m\u001b[1;33m(\u001b[0m\u001b[1;33m)\u001b[0m\u001b[1;33m:\u001b[0m\u001b[1;33m\u001b[0m\u001b[0m\n\u001b[0;32m    796\u001b[0m             obj.query.add_aggregate(aggregate_expr, self.model, alias,\n\u001b[1;32m--> 797\u001b[1;33m                 is_summary=False)\n\u001b[0m\u001b[0;32m    798\u001b[0m \u001b[1;33m\u001b[0m\u001b[0m\n\u001b[0;32m    799\u001b[0m         \u001b[1;32mreturn\u001b[0m \u001b[0mobj\u001b[0m\u001b[1;33m\u001b[0m\u001b[0m\n",
        "\u001b[1;32m/home/kurol/env/lobbying/local/lib/python2.7/site-packages/django/db/models/sql/query.pyc\u001b[0m in \u001b[0;36madd_aggregate\u001b[1;34m(self, aggregate, model, alias, is_summary)\u001b[0m\n\u001b[0;32m   1010\u001b[0m             \u001b[1;31m# outer join if there isn't any existing join.\u001b[0m\u001b[1;33m\u001b[0m\u001b[1;33m\u001b[0m\u001b[0m\n\u001b[0;32m   1011\u001b[0m             field, sources, opts, join_list, path = self.setup_joins(\n\u001b[1;32m-> 1012\u001b[1;33m                 field_list, opts, self.get_initial_alias())\n\u001b[0m\u001b[0;32m   1013\u001b[0m \u001b[1;33m\u001b[0m\u001b[0m\n\u001b[0;32m   1014\u001b[0m             \u001b[1;31m# Process the join chain to see if it can be trimmed\u001b[0m\u001b[1;33m\u001b[0m\u001b[1;33m\u001b[0m\u001b[0m\n",
        "\u001b[1;32m/home/kurol/env/lobbying/local/lib/python2.7/site-packages/django/db/models/sql/query.pyc\u001b[0m in \u001b[0;36msetup_joins\u001b[1;34m(self, names, opts, alias, can_reuse, allow_many)\u001b[0m\n\u001b[0;32m   1414\u001b[0m         \u001b[1;31m# First, generate the path for the names\u001b[0m\u001b[1;33m\u001b[0m\u001b[1;33m\u001b[0m\u001b[0m\n\u001b[0;32m   1415\u001b[0m         path, final_field, targets, rest = self.names_to_path(\n\u001b[1;32m-> 1416\u001b[1;33m             names, opts, allow_many, fail_on_missing=True)\n\u001b[0m\u001b[0;32m   1417\u001b[0m \u001b[1;33m\u001b[0m\u001b[0m\n\u001b[0;32m   1418\u001b[0m         \u001b[1;31m# Then, add the path to the query's joins. Note that we can't trim\u001b[0m\u001b[1;33m\u001b[0m\u001b[1;33m\u001b[0m\u001b[0m\n",
        "\u001b[1;32m/home/kurol/env/lobbying/local/lib/python2.7/site-packages/django/db/models/sql/query.pyc\u001b[0m in \u001b[0;36mnames_to_path\u001b[1;34m(self, names, opts, allow_many, fail_on_missing)\u001b[0m\n\u001b[0;32m   1378\u001b[0m                 \u001b[1;32mbreak\u001b[0m\u001b[1;33m\u001b[0m\u001b[0m\n\u001b[0;32m   1379\u001b[0m         \u001b[1;32mif\u001b[0m \u001b[0mpos\u001b[0m \u001b[1;33m==\u001b[0m \u001b[1;33m-\u001b[0m\u001b[1;36m1\u001b[0m \u001b[1;32mor\u001b[0m \u001b[1;33m(\u001b[0m\u001b[0mfail_on_missing\u001b[0m \u001b[1;32mand\u001b[0m \u001b[0mpos\u001b[0m \u001b[1;33m+\u001b[0m \u001b[1;36m1\u001b[0m \u001b[1;33m!=\u001b[0m \u001b[0mlen\u001b[0m\u001b[1;33m(\u001b[0m\u001b[0mnames\u001b[0m\u001b[1;33m)\u001b[0m\u001b[1;33m)\u001b[0m\u001b[1;33m:\u001b[0m\u001b[1;33m\u001b[0m\u001b[0m\n\u001b[1;32m-> 1380\u001b[1;33m             \u001b[0mself\u001b[0m\u001b[1;33m.\u001b[0m\u001b[0mraise_field_error\u001b[0m\u001b[1;33m(\u001b[0m\u001b[0mopts\u001b[0m\u001b[1;33m,\u001b[0m \u001b[0mname\u001b[0m\u001b[1;33m)\u001b[0m\u001b[1;33m\u001b[0m\u001b[0m\n\u001b[0m\u001b[0;32m   1381\u001b[0m         \u001b[1;32mreturn\u001b[0m \u001b[0mpath\u001b[0m\u001b[1;33m,\u001b[0m \u001b[0mfinal_field\u001b[0m\u001b[1;33m,\u001b[0m \u001b[0mtargets\u001b[0m\u001b[1;33m,\u001b[0m \u001b[0mnames\u001b[0m\u001b[1;33m[\u001b[0m\u001b[0mpos\u001b[0m \u001b[1;33m+\u001b[0m \u001b[1;36m1\u001b[0m\u001b[1;33m:\u001b[0m\u001b[1;33m]\u001b[0m\u001b[1;33m\u001b[0m\u001b[0m\n\u001b[0;32m   1382\u001b[0m \u001b[1;33m\u001b[0m\u001b[0m\n",
        "\u001b[1;32m/home/kurol/env/lobbying/local/lib/python2.7/site-packages/django/db/models/sql/query.pyc\u001b[0m in \u001b[0;36mraise_field_error\u001b[1;34m(self, opts, name)\u001b[0m\n\u001b[0;32m   1384\u001b[0m         \u001b[0mavailable\u001b[0m \u001b[1;33m=\u001b[0m \u001b[0mopts\u001b[0m\u001b[1;33m.\u001b[0m\u001b[0mget_all_field_names\u001b[0m\u001b[1;33m(\u001b[0m\u001b[1;33m)\u001b[0m \u001b[1;33m+\u001b[0m \u001b[0mlist\u001b[0m\u001b[1;33m(\u001b[0m\u001b[0mself\u001b[0m\u001b[1;33m.\u001b[0m\u001b[0maggregate_select\u001b[0m\u001b[1;33m)\u001b[0m\u001b[1;33m\u001b[0m\u001b[0m\n\u001b[0;32m   1385\u001b[0m         raise FieldError(\"Cannot resolve keyword %r into field. \"\n\u001b[1;32m-> 1386\u001b[1;33m                          \"Choices are: %s\" % (name, \", \".join(available)))\n\u001b[0m\u001b[0;32m   1387\u001b[0m \u001b[1;33m\u001b[0m\u001b[0m\n\u001b[0;32m   1388\u001b[0m     \u001b[1;32mdef\u001b[0m \u001b[0msetup_joins\u001b[0m\u001b[1;33m(\u001b[0m\u001b[0mself\u001b[0m\u001b[1;33m,\u001b[0m \u001b[0mnames\u001b[0m\u001b[1;33m,\u001b[0m \u001b[0mopts\u001b[0m\u001b[1;33m,\u001b[0m \u001b[0malias\u001b[0m\u001b[1;33m,\u001b[0m \u001b[0mcan_reuse\u001b[0m\u001b[1;33m=\u001b[0m\u001b[0mNone\u001b[0m\u001b[1;33m,\u001b[0m \u001b[0mallow_many\u001b[0m\u001b[1;33m=\u001b[0m\u001b[0mTrue\u001b[0m\u001b[1;33m)\u001b[0m\u001b[1;33m:\u001b[0m\u001b[1;33m\u001b[0m\u001b[0m\n",
        "\u001b[1;31mFieldError\u001b[0m: Cannot resolve keyword 'compensation_set_massive' into field. Choices are: clients, compensation, id, lobbyist, lobbyist_id, year"
       ]
      }
     ],
     "prompt_number": 15
    },
    {
     "cell_type": "code",
     "collapsed": false,
     "input": [],
     "language": "python",
     "metadata": {},
     "outputs": []
    }
   ],
   "metadata": {}
  }
 ]
}