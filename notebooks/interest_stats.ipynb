{
 "metadata": {
  "name": "",
  "signature": "sha256:1fb6e0d68702a03e13c15bcd4270dd37107edea3fb0aacac5933387e331baf39"
 },
 "nbformat": 3,
 "nbformat_minor": 0,
 "worksheets": [
  {
   "cells": [
    {
     "cell_type": "code",
     "collapsed": false,
     "input": [
      "import django; django.setup()\n",
      "from django.db import connection\n",
      "from django.db.models import Avg, Count, F, Max, Min, Q, Sum\n",
      "from tx_lobbying.models import Interest"
     ],
     "language": "python",
     "metadata": {},
     "outputs": [],
     "prompt_number": 2
    },
    {
     "cell_type": "code",
     "collapsed": false,
     "input": [
      "interest = Interest.objects.get(pk=946)  # AT&T\n",
      "print interest"
     ],
     "language": "python",
     "metadata": {},
     "outputs": [
      {
       "output_type": "stream",
       "stream": "stdout",
       "text": [
        "AT&T, Inc. (TX)\n"
       ]
      }
     ],
     "prompt_number": 3
    },
    {
     "cell_type": "code",
     "collapsed": false,
     "input": [
      "interest.years_available.values('year')"
     ],
     "language": "python",
     "metadata": {},
     "outputs": [
      {
       "metadata": {},
       "output_type": "pyout",
       "prompt_number": 4,
       "text": [
        "[{'year': 2014}, {'year': 2014}, {'year': 2014}, {'year': 2014}, {'year': 2014}, {'year': 2013}, {'year': 2013}, {'year': 2013}, {'year': 2013}, {'year': 2013}, {'year': 2013}, {'year': 2013}, {'year': 2013}, {'year': 2013}, {'year': 2013}]"
       ]
      }
     ],
     "prompt_number": 4
    },
    {
     "cell_type": "code",
     "collapsed": false,
     "input": [
      "# Can aggregate by year\n",
      "interest.years_available.values('year').annotate(Count('pk')).order_by('year')"
     ],
     "language": "python",
     "metadata": {},
     "outputs": [
      {
       "metadata": {},
       "output_type": "pyout",
       "prompt_number": 6,
       "text": [
        "[{'pk__count': 10, 'year': 2013}, {'pk__count': 5, 'year': 2014}]"
       ]
      }
     ],
     "prompt_number": 6
    },
    {
     "cell_type": "code",
     "collapsed": false,
     "input": [
      "interest.compensation_set.all().latest('annum__year').address"
     ],
     "language": "python",
     "metadata": {},
     "outputs": [
      {
       "metadata": {},
       "output_type": "pyout",
       "prompt_number": 12,
       "text": [
        "<Address: 208 S. Akard St. \n",
        "Dallas, TX 75202>"
       ]
      }
     ],
     "prompt_number": 12
    },
    {
     "cell_type": "code",
     "collapsed": false,
     "input": [
      "interest.address"
     ],
     "language": "python",
     "metadata": {},
     "outputs": [
      {
       "metadata": {},
       "output_type": "pyout",
       "prompt_number": 13,
       "text": [
        "<Address: 208 S. Akard St. \n",
        "Dallas, TX 75202>"
       ]
      }
     ],
     "prompt_number": 13
    },
    {
     "cell_type": "code",
     "collapsed": false,
     "input": [],
     "language": "python",
     "metadata": {},
     "outputs": []
    }
   ],
   "metadata": {}
  }
 ]
}